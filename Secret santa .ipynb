{
 "cells": [
  {
   "cell_type": "markdown",
   "id": "0e05c8d8",
   "metadata": {},
   "source": [
    "### Importing Libs "
   ]
  },
  {
   "cell_type": "code",
   "execution_count": 12,
   "id": "dfa91925",
   "metadata": {},
   "outputs": [],
   "source": [
    "import smtplib\n",
    "from email.mime.text import MIMEText\n",
    "from email.mime.multipart import MIMEMultipart\n",
    "import random\n",
    "from random import randint"
   ]
  },
  {
   "cell_type": "markdown",
   "id": "1219e5d7",
   "metadata": {},
   "source": [
    "### Extracting Info"
   ]
  },
  {
   "cell_type": "code",
   "execution_count": 13,
   "id": "f9c83d16",
   "metadata": {},
   "outputs": [],
   "source": [
    "file_path = r\"participants\\participants.txt\"\n",
    "gifter = []\n",
    "gifterEmails = []\n",
    "receiver = []\n",
    "emergency = []\n",
    "with open(file_path, 'r') as file:\n",
    "    for line in file:\n",
    "        if ':' in line:\n",
    "            name, email = line.strip().split(':')\n",
    "            gifter.append(name.strip())\n",
    "            gifterEmails.append(email.strip())\n",
    "receiver = gifter.copy()\n",
    "emergency = gifter.copy()\n",
    "\n",
    "second_file_path = r\"HostCredentials\\Creds.txt\"\n",
    "credentials = {}\n",
    "with open(second_file_path, \"r\") as file:\n",
    "    for line in file:\n",
    "        key, value = line.strip().split(\" : \")\n",
    "        credentials[key] = value\n",
    "santa = credentials['santa']\n",
    "password = credentials['password']"
   ]
  },
  {
   "cell_type": "markdown",
   "id": "9693bfa7",
   "metadata": {},
   "source": [
    "### Functions"
   ]
  },
  {
   "cell_type": "code",
   "execution_count": 7,
   "id": "8764a0de",
   "metadata": {},
   "outputs": [],
   "source": [
    "def randomizer (gifter,receiver):\n",
    "    count = int(len(gifter))\n",
    "    count2 = count\n",
    "    rows, cols = (count, 2) \n",
    "    arr = [[0 for i in range(cols)] for j in range(rows)] \n",
    "    for i in range(count):\n",
    "        count2-=1\n",
    "        random = randint(0,count2)\n",
    "        arr[i][0] = gifter[i]\n",
    "        \n",
    "        #check if the gifter is the same as the rcvr\n",
    "        if(arr[i][0] == receiver[random]):\n",
    "            #assign the rcvr that is before the resulted one\n",
    "            arr[i][1] = receiver[random-1]\n",
    "            receiver.remove(receiver[random-1])\n",
    "        else :\n",
    "            #just assign the initial rcvr\n",
    "            arr[i][1] = receiver[random]\n",
    "            receiver.remove(receiver[random])       \n",
    "    return arr\n",
    "\n",
    "\n",
    "results = randomizer(gifter, receiver)\n",
    "\n",
    "if (results[-1][0] == results[-1][1]):\n",
    "    results = randomizer(gifter, emergency)\n",
    "    \n",
    "    \n"
   ]
  },
  {
   "cell_type": "code",
   "execution_count": 15,
   "id": "704ff799",
   "metadata": {},
   "outputs": [],
   "source": [
    "def send_email(santa , password , gifter, gifterName , giftRcvr):\n",
    "    #santa is the host email address that will send\n",
    "    #password is the app password created by GMAIL\n",
    "    #gifter is the emaill address of the one that will be gifting\n",
    "    #giftRcvr will be the email sender\n",
    "    \n",
    "    subject = \"Test Secret Santa\"\n",
    "    body = (f\" THIS IS ONLY THE TEST, TEST ,TEST ,TEST , Hey {gifterName}, you are the secret santa for {giftRcvr}, Please buy them a gift on time. You can find a pinned message in the main group with everyone's interests\")\n",
    "    \n",
    "    \n",
    "    message = MIMEMultipart()\n",
    "    message[\"From\"] = santa\n",
    "    message[\"To\"] = gifter\n",
    "    message[\"Subject\"] = subject\n",
    "    message.attach(MIMEText(body, \"plain\"))\n",
    "    \n",
    "    with smtplib.SMTP(\"smtp.gmail.com\", 587) as server:\n",
    "        server.starttls()  # Start TLS (Transport Layer Security)\n",
    "        server.login(santa, password)  # Login with app password\n",
    "        server.sendmail(santa, gifter, message.as_string())  # Send the email\n",
    "    print(body)"
   ]
  },
  {
   "cell_type": "code",
   "execution_count": 16,
   "id": "5041cfab",
   "metadata": {},
   "outputs": [],
   "source": [
    "def bulk_emails(finalList):\n",
    "    for i in range(len(finalList)):\n",
    "        send_email(santa,password,gifterEmails[i],finalList[i][0],finalList[i][1])"
   ]
  },
  {
   "cell_type": "markdown",
   "id": "7c130619",
   "metadata": {},
   "source": [
    "## Execution"
   ]
  },
  {
   "cell_type": "code",
   "execution_count": null,
   "id": "9db8e539",
   "metadata": {},
   "outputs": [],
   "source": [
    "#running this cell will send all emails so make sure you are ready\n",
    "bulk_emails(results)"
   ]
  }
 ],
 "metadata": {
  "kernelspec": {
   "display_name": "Python 3 (ipykernel)",
   "language": "python",
   "name": "python3"
  },
  "language_info": {
   "codemirror_mode": {
    "name": "ipython",
    "version": 3
   },
   "file_extension": ".py",
   "mimetype": "text/x-python",
   "name": "python",
   "nbconvert_exporter": "python",
   "pygments_lexer": "ipython3",
   "version": "3.9.12"
  }
 },
 "nbformat": 4,
 "nbformat_minor": 5
}
