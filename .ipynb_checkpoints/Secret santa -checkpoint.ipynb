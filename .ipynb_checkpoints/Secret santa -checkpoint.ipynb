{
 "cells": [
  {
   "cell_type": "code",
   "execution_count": 2,
   "id": "ed884c39",
   "metadata": {},
   "outputs": [],
   "source": [
    "import smtplib\n",
    "import random\n",
    "from random import randint"
   ]
  },
  {
   "cell_type": "code",
   "execution_count": 11,
   "id": "1dadc213",
   "metadata": {},
   "outputs": [],
   "source": [
    "conn = smtplib.SMTP('smtp-mail.outlook.com' , 587)"
   ]
  },
  {
   "cell_type": "code",
   "execution_count": 12,
   "id": "738879f1",
   "metadata": {},
   "outputs": [
    {
     "data": {
      "text/plain": [
       "smtplib.SMTP"
      ]
     },
     "execution_count": 12,
     "metadata": {},
     "output_type": "execute_result"
    }
   ],
   "source": [
    "type(conn)"
   ]
  },
  {
   "cell_type": "code",
   "execution_count": 13,
   "id": "ab1b01d7",
   "metadata": {},
   "outputs": [
    {
     "data": {
      "text/plain": [
       "(250,\n",
       " b'MR1P264CA0141.outlook.office365.com Hello [156.213.79.211]\\nSIZE 157286400\\nPIPELINING\\nDSN\\nENHANCEDSTATUSCODES\\nSTARTTLS\\n8BITMIME\\nBINARYMIME\\nCHUNKING\\nSMTPUTF8')"
      ]
     },
     "execution_count": 13,
     "metadata": {},
     "output_type": "execute_result"
    }
   ],
   "source": [
    "conn.ehlo()"
   ]
  },
  {
   "cell_type": "code",
   "execution_count": 14,
   "id": "f6220cf9",
   "metadata": {},
   "outputs": [
    {
     "data": {
      "text/plain": [
       "(220, b'2.0.0 SMTP server ready')"
      ]
     },
     "execution_count": 14,
     "metadata": {},
     "output_type": "execute_result"
    }
   ],
   "source": [
    "conn.starttls()"
   ]
  },
  {
   "cell_type": "code",
   "execution_count": 15,
   "id": "c8165d25",
   "metadata": {},
   "outputs": [],
   "source": [
    "gmail_password= 'kqgkmprciiujdbvt'"
   ]
  },
  {
   "cell_type": "code",
   "execution_count": 16,
   "id": "cf0f602d",
   "metadata": {
    "scrolled": false
   },
   "outputs": [
    {
     "ename": "SMTPAuthenticationError",
     "evalue": "(535, b'5.7.139 Authentication unsuccessful, basic authentication is disabled. [MR1P264CA0141.FRAP264.PROD.OUTLOOK.COM 2024-10-26T22:24:57.756Z 08DCF59D4209EB8C]')",
     "output_type": "error",
     "traceback": [
      "\u001b[1;31m---------------------------------------------------------------------------\u001b[0m",
      "\u001b[1;31mSMTPAuthenticationError\u001b[0m                   Traceback (most recent call last)",
      "Cell \u001b[1;32mIn[16], line 1\u001b[0m\n\u001b[1;32m----> 1\u001b[0m \u001b[43mconn\u001b[49m\u001b[38;5;241;43m.\u001b[39;49m\u001b[43mlogin\u001b[49m\u001b[43m(\u001b[49m\u001b[38;5;124;43m'\u001b[39;49m\u001b[38;5;124;43melhussein-tolba@outlook.com\u001b[39;49m\u001b[38;5;124;43m'\u001b[39;49m\u001b[43m \u001b[49m\u001b[43m,\u001b[49m\u001b[43m \u001b[49m\u001b[38;5;124;43m'\u001b[39;49m\u001b[38;5;124;43mVerstappenfrontw!ng0\u001b[39;49m\u001b[38;5;124;43m'\u001b[39;49m\u001b[43m)\u001b[49m\n",
      "File \u001b[1;32m~\\anaconda3\\lib\\smtplib.py:750\u001b[0m, in \u001b[0;36mSMTP.login\u001b[1;34m(self, user, password, initial_response_ok)\u001b[0m\n\u001b[0;32m    747\u001b[0m         last_exception \u001b[38;5;241m=\u001b[39m e\n\u001b[0;32m    749\u001b[0m \u001b[38;5;66;03m# We could not login successfully.  Return result of last attempt.\u001b[39;00m\n\u001b[1;32m--> 750\u001b[0m \u001b[38;5;28;01mraise\u001b[39;00m last_exception\n",
      "File \u001b[1;32m~\\anaconda3\\lib\\smtplib.py:739\u001b[0m, in \u001b[0;36mSMTP.login\u001b[1;34m(self, user, password, initial_response_ok)\u001b[0m\n\u001b[0;32m    737\u001b[0m method_name \u001b[38;5;241m=\u001b[39m \u001b[38;5;124m'\u001b[39m\u001b[38;5;124mauth_\u001b[39m\u001b[38;5;124m'\u001b[39m \u001b[38;5;241m+\u001b[39m authmethod\u001b[38;5;241m.\u001b[39mlower()\u001b[38;5;241m.\u001b[39mreplace(\u001b[38;5;124m'\u001b[39m\u001b[38;5;124m-\u001b[39m\u001b[38;5;124m'\u001b[39m, \u001b[38;5;124m'\u001b[39m\u001b[38;5;124m_\u001b[39m\u001b[38;5;124m'\u001b[39m)\n\u001b[0;32m    738\u001b[0m \u001b[38;5;28;01mtry\u001b[39;00m:\n\u001b[1;32m--> 739\u001b[0m     (code, resp) \u001b[38;5;241m=\u001b[39m \u001b[38;5;28;43mself\u001b[39;49m\u001b[38;5;241;43m.\u001b[39;49m\u001b[43mauth\u001b[49m\u001b[43m(\u001b[49m\n\u001b[0;32m    740\u001b[0m \u001b[43m        \u001b[49m\u001b[43mauthmethod\u001b[49m\u001b[43m,\u001b[49m\u001b[43m \u001b[49m\u001b[38;5;28;43mgetattr\u001b[39;49m\u001b[43m(\u001b[49m\u001b[38;5;28;43mself\u001b[39;49m\u001b[43m,\u001b[49m\u001b[43m \u001b[49m\u001b[43mmethod_name\u001b[49m\u001b[43m)\u001b[49m\u001b[43m,\u001b[49m\n\u001b[0;32m    741\u001b[0m \u001b[43m        \u001b[49m\u001b[43minitial_response_ok\u001b[49m\u001b[38;5;241;43m=\u001b[39;49m\u001b[43minitial_response_ok\u001b[49m\u001b[43m)\u001b[49m\n\u001b[0;32m    742\u001b[0m     \u001b[38;5;66;03m# 235 == 'Authentication successful'\u001b[39;00m\n\u001b[0;32m    743\u001b[0m     \u001b[38;5;66;03m# 503 == 'Error: already authenticated'\u001b[39;00m\n\u001b[0;32m    744\u001b[0m     \u001b[38;5;28;01mif\u001b[39;00m code \u001b[38;5;129;01min\u001b[39;00m (\u001b[38;5;241m235\u001b[39m, \u001b[38;5;241m503\u001b[39m):\n",
      "File \u001b[1;32m~\\anaconda3\\lib\\smtplib.py:662\u001b[0m, in \u001b[0;36mSMTP.auth\u001b[1;34m(self, mechanism, authobject, initial_response_ok)\u001b[0m\n\u001b[0;32m    660\u001b[0m \u001b[38;5;28;01mif\u001b[39;00m code \u001b[38;5;129;01min\u001b[39;00m (\u001b[38;5;241m235\u001b[39m, \u001b[38;5;241m503\u001b[39m):\n\u001b[0;32m    661\u001b[0m     \u001b[38;5;28;01mreturn\u001b[39;00m (code, resp)\n\u001b[1;32m--> 662\u001b[0m \u001b[38;5;28;01mraise\u001b[39;00m SMTPAuthenticationError(code, resp)\n",
      "\u001b[1;31mSMTPAuthenticationError\u001b[0m: (535, b'5.7.139 Authentication unsuccessful, basic authentication is disabled. [MR1P264CA0141.FRAP264.PROD.OUTLOOK.COM 2024-10-26T22:24:57.756Z 08DCF59D4209EB8C]')"
     ]
    }
   ],
   "source": [
    "conn.login('elhussein-tolba@outlook.com' , 'password')"
   ]
  },
  {
   "cell_type": "code",
   "execution_count": 8,
   "id": "c783f97c",
   "metadata": {},
   "outputs": [
    {
     "ename": "SMTPSenderRefused",
     "evalue": "(530, b'5.7.57 Client not authenticated to send mail. Error: 535 5.7.139 Authentication unsuccessful, basic authentication is disabled. [MR1P264CA0177.FRAP264.PROD.OUTLOOK.COM 2024-10-26T22:22:44.157Z 08DCF5B4EF934793]', 'elhussein-tolba@outlook.com')",
     "output_type": "error",
     "traceback": [
      "\u001b[1;31m---------------------------------------------------------------------------\u001b[0m",
      "\u001b[1;31mSMTPSenderRefused\u001b[0m                         Traceback (most recent call last)",
      "Cell \u001b[1;32mIn[8], line 1\u001b[0m\n\u001b[1;32m----> 1\u001b[0m \u001b[43mconn\u001b[49m\u001b[38;5;241;43m.\u001b[39;49m\u001b[43msendmail\u001b[49m\u001b[43m(\u001b[49m\u001b[38;5;124;43m'\u001b[39;49m\u001b[38;5;124;43melhussein-tolba@outlook.com\u001b[39;49m\u001b[38;5;124;43m'\u001b[39;49m\u001b[43m \u001b[49m\u001b[43m,\u001b[49m\u001b[43m \u001b[49m\u001b[38;5;124;43m'\u001b[39;49m\u001b[38;5;124;43malhusseingomma194@gmail.com\u001b[39;49m\u001b[38;5;124;43m'\u001b[39;49m\u001b[43m \u001b[49m\u001b[43m,\u001b[49m\u001b[38;5;124;43m'\u001b[39;49m\u001b[38;5;124;43mSubject: IGNORE TEST secret santa \u001b[39;49m\u001b[38;5;130;43;01m\\n\u001b[39;49;00m\u001b[38;5;130;43;01m\\n\u001b[39;49;00m\u001b[38;5;130;43;01m\\n\u001b[39;49;00m\u001b[38;5;130;43;01m\\n\u001b[39;49;00m\u001b[38;5;124;43m hewo \u001b[39;49m\u001b[38;5;130;43;01m\\n\u001b[39;49;00m\u001b[38;5;124;43m code : 248763 , this is the real one \u001b[39;49m\u001b[38;5;130;43;01m\\n\u001b[39;49;00m\u001b[38;5;130;43;01m\\n\u001b[39;49;00m\u001b[38;5;130;43;01m\\n\u001b[39;49;00m\u001b[38;5;124;43m your pair is x \u001b[39;49m\u001b[38;5;124;43m'\u001b[39;49m\u001b[43m  \u001b[49m\u001b[43m)\u001b[49m\n",
      "File \u001b[1;32m~\\anaconda3\\lib\\smtplib.py:887\u001b[0m, in \u001b[0;36mSMTP.sendmail\u001b[1;34m(self, from_addr, to_addrs, msg, mail_options, rcpt_options)\u001b[0m\n\u001b[0;32m    885\u001b[0m     \u001b[38;5;28;01melse\u001b[39;00m:\n\u001b[0;32m    886\u001b[0m         \u001b[38;5;28mself\u001b[39m\u001b[38;5;241m.\u001b[39m_rset()\n\u001b[1;32m--> 887\u001b[0m     \u001b[38;5;28;01mraise\u001b[39;00m SMTPSenderRefused(code, resp, from_addr)\n\u001b[0;32m    888\u001b[0m senderrs \u001b[38;5;241m=\u001b[39m {}\n\u001b[0;32m    889\u001b[0m \u001b[38;5;28;01mif\u001b[39;00m \u001b[38;5;28misinstance\u001b[39m(to_addrs, \u001b[38;5;28mstr\u001b[39m):\n",
      "\u001b[1;31mSMTPSenderRefused\u001b[0m: (530, b'5.7.57 Client not authenticated to send mail. Error: 535 5.7.139 Authentication unsuccessful, basic authentication is disabled. [MR1P264CA0177.FRAP264.PROD.OUTLOOK.COM 2024-10-26T22:22:44.157Z 08DCF5B4EF934793]', 'elhussein-tolba@outlook.com')"
     ]
    }
   ],
   "source": [
    "conn.sendmail('elhussein-tolba@outlook.com' , 'alhusseingomma194@gmail.com' ,'Subject: IGNORE TEST secret santa \\n\\n\\n\\n hewo \\n code : 248763 , this is the real one \\n\\n\\n your pair is x '  )"
   ]
  },
  {
   "cell_type": "code",
   "execution_count": null,
   "id": "8428dbb6",
   "metadata": {},
   "outputs": [],
   "source": [
    "import yagmail\n",
    "\n",
    "# Set up the OAuth2 credentials and initialize yagmail\n",
    "yag = yagmail.SMTP(\n",
    "    user='your_outlook_email@outlook.com',\n",
    "    oauth2_file='path/to/oauth2_credentials.json'  # Path to your OAuth2 credentials file\n",
    ")\n",
    "\n",
    "# Compose the email\n",
    "to_email = 'recipient@example.com'\n",
    "subject = 'Test Email Subject'\n",
    "body = 'kosom microsoft'\n",
    "\n",
    "# Send the email\n",
    "yag.send(to=to_email, subject=subject, contents=body)\n",
    "print(\"Email sent successfully!\")\n"
   ]
  },
  {
   "cell_type": "code",
   "execution_count": 121,
   "id": "29b77b6c",
   "metadata": {
    "scrolled": false
   },
   "outputs": [
    {
     "name": "stdout",
     "output_type": "stream",
     "text": [
      "15 15\n",
      "14 5\n",
      "13 2\n",
      "12 5\n",
      "11 10\n",
      "10 2\n",
      "9 9\n",
      "8 4\n",
      "7 5\n",
      "6 3\n",
      "5 0\n",
      "4 1\n",
      "3 1\n",
      "2 2\n",
      "1 1\n",
      "0 0\n"
     ]
    }
   ],
   "source": []
  },
  {
   "cell_type": "code",
   "execution_count": 122,
   "id": "122a0294",
   "metadata": {},
   "outputs": [
    {
     "data": {
      "text/plain": [
       "[['carti', 'youssef jesus'],\n",
       " ['naf', 'zoo'],\n",
       " ['jupiter', 'naf'],\n",
       " ['dahshan', 'sof'],\n",
       " ['sal', 'aly farouk'],\n",
       " ['zoo', 'dahshan'],\n",
       " ['sufian', 'abdou'],\n",
       " ['sof', 'popz'],\n",
       " ['popz', 'hoss'],\n",
       " ['boshkashs', 'sufian'],\n",
       " ['hoss', 'carti'],\n",
       " ['noo7', 'sal'],\n",
       " ['omar rayzious', 'boshkashs'],\n",
       " ['aly farouk', 'omar rayzious'],\n",
       " ['abdou', 'noo7'],\n",
       " ['youssef jesus', 'jupiter']]"
      ]
     },
     "execution_count": 122,
     "metadata": {},
     "output_type": "execute_result"
    }
   ],
   "source": [
    "results"
   ]
  },
  {
   "cell_type": "code",
   "execution_count": 20,
   "id": "9ee5c7c3",
   "metadata": {},
   "outputs": [],
   "source": [
    "def sendEmails (arrr):\n",
    "    for i in range(13):\n",
    "        gifterEm = gifterEmails[i]\n",
    "        receiverr = arrr[i][1]\n",
    "        print(gifterEm)\n",
    "        msg = 'good evening, you will buy a gift for ' + receiverr\n",
    "        print(msg)\n",
    "        conn.sendmail('elhussein-tolba@outlook.com' , gifterEm ,'Subject: SECRET SANTA DRAW \\n\\n\\n\\n code : 0000 \\n\\n\\nthis is the actual secret santa after first draw, you are stuck with your pair now \\n\\n' + msg )\n",
    "        #conn.sendmail('elhussein-tolba@outlook.com' , gifterEm ,'Subject: SECRET SANTA TEST \\n\\n\\n\\n code : 000 \\n\\n\\nthis is the test , kindly note THIS IS NOT THE DRAW\\n\\n' + msg )\n",
    "        \n",
    "        \n",
    "        \n",
    "        \n",
    "        \n",
    "        \n",
    "        \n",
    "        \n",
    "        \n",
    "        \n",
    "        "
   ]
  },
  {
   "cell_type": "code",
   "execution_count": 28,
   "id": "04848eb0",
   "metadata": {},
   "outputs": [
    {
     "name": "stdout",
     "output_type": "stream",
     "text": [
      "cartiforeskin@gmail.com\n",
      "good evening, you will buy a gift for hoss\n",
      "nafady.abdullah@gmail.com\n",
      "good evening, you will buy a gift for dahshan\n",
      "mohammedsg593@gmail.com\n",
      "good evening, you will buy a gift for popz\n",
      "Youssef.dahshan@hotmail.com\n",
      "good evening, you will buy a gift for carti\n",
      "shahdselim01@gmail.com\n",
      "good evening, you will buy a gift for sal\n",
      "zeinaelfar828@gmail.com\n",
      "good evening, you will buy a gift for sof\n",
      "mnoons@outlook.com\n",
      "good evening, you will buy a gift for zoo\n",
      "Safiaroma77.sh@gmail.com\n",
      "good evening, you will buy a gift for jupiter\n",
      "ziadzezotarek@gmail.com\n",
      "good evening, you will buy a gift for anas\n",
      "anas2105906@miuegypt.edu.eg\n",
      "good evening, you will buy a gift for sufian\n",
      "Haithamhossam47@gmail.com\n",
      "good evening, you will buy a gift for naf\n"
     ]
    },
    {
     "ename": "IndexError",
     "evalue": "list index out of range",
     "output_type": "error",
     "traceback": [
      "\u001b[1;31m---------------------------------------------------------------------------\u001b[0m",
      "\u001b[1;31mIndexError\u001b[0m                                Traceback (most recent call last)",
      "Cell \u001b[1;32mIn[28], line 1\u001b[0m\n\u001b[1;32m----> 1\u001b[0m \u001b[43msendEmails\u001b[49m\u001b[43m(\u001b[49m\u001b[43mresults\u001b[49m\u001b[43m)\u001b[49m\n",
      "Cell \u001b[1;32mIn[20], line 3\u001b[0m, in \u001b[0;36msendEmails\u001b[1;34m(arrr)\u001b[0m\n\u001b[0;32m      1\u001b[0m \u001b[38;5;28;01mdef\u001b[39;00m \u001b[38;5;21msendEmails\u001b[39m (arrr):\n\u001b[0;32m      2\u001b[0m     \u001b[38;5;28;01mfor\u001b[39;00m i \u001b[38;5;129;01min\u001b[39;00m \u001b[38;5;28mrange\u001b[39m(\u001b[38;5;241m13\u001b[39m):\n\u001b[1;32m----> 3\u001b[0m         gifterEm \u001b[38;5;241m=\u001b[39m \u001b[43mgifterEmails\u001b[49m\u001b[43m[\u001b[49m\u001b[43mi\u001b[49m\u001b[43m]\u001b[49m\n\u001b[0;32m      4\u001b[0m         receiverr \u001b[38;5;241m=\u001b[39m arrr[i][\u001b[38;5;241m1\u001b[39m]\n\u001b[0;32m      5\u001b[0m         \u001b[38;5;28mprint\u001b[39m(gifterEm)\n",
      "\u001b[1;31mIndexError\u001b[0m: list index out of range"
     ]
    }
   ],
   "source": [
    "sendEmails(results)"
   ]
  },
  {
   "cell_type": "code",
   "execution_count": 50,
   "id": "aa2d73f2",
   "metadata": {},
   "outputs": [
    {
     "name": "stdout",
     "output_type": "stream",
     "text": [
      "cartiforeskin@gmail.com\n"
     ]
    },
    {
     "data": {
      "text/plain": [
       "{}"
      ]
     },
     "execution_count": 50,
     "metadata": {},
     "output_type": "execute_result"
    }
   ],
   "source": [
    "gifterEm = gifterEmails[0]\n",
    "print(gifterEmails[0])\n",
    "receiverr = results[0][1]\n",
    "msg = 'THIS IS ONLY A TEST, NOT THE ACTUAL SECRET SANTA -> your pair is ' + receiverr\n",
    "conn.sendmail('elhussein-tolba@outlook.com' , gifterEm ,'Subject:secret santa \\n\\n\\n\\npoop ' + msg )"
   ]
  },
  {
   "cell_type": "code",
   "execution_count": 88,
   "id": "8374d915",
   "metadata": {},
   "outputs": [
    {
     "name": "stdout",
     "output_type": "stream",
     "text": [
      "Email sent successfully!\n"
     ]
    }
   ],
   "source": [
    "import smtplib\n",
    "from email.mime.text import MIMEText\n",
    "from email.mime.multipart import MIMEMultipart\n",
    "\n",
    "def send_email():\n",
    "    sender_email = \"alhusseingomma194@gmail.com\"\n",
    "    receiver_email = \"gshockforlife9@gmail.com\"\n",
    "    app_password = \"cfjubrrxlzfqyver\"\n",
    "\n",
    "    # Create the email content\n",
    "    subject = \"testing email\"\n",
    "    body = \"kos o5t microsoft.\"\n",
    "\n",
    "    # Create the email message\n",
    "    message = MIMEMultipart()\n",
    "    message[\"From\"] = sender_email\n",
    "    message[\"To\"] = receiver_email\n",
    "    message[\"Subject\"] = subject\n",
    "    message.attach(MIMEText(body, \"plain\"))\n",
    "\n",
    "    try:\n",
    "        # Connect to Gmail's SMTP server\n",
    "        with smtplib.SMTP(\"smtp.gmail.com\", 587) as server:\n",
    "            server.starttls()  # Start TLS (Transport Layer Security)\n",
    "            server.login(sender_email, app_password)  # Login with app password\n",
    "            server.sendmail(sender_email, receiver_email, message.as_string())  # Send the email\n",
    "            print(\"Email sent successfully!\")\n",
    "    except Exception as e:\n",
    "        print(f\"Error: {e}\")\n",
    "\n",
    "# Call the function to send an email\n",
    "send_email()\n"
   ]
  },
  {
   "cell_type": "code",
   "execution_count": null,
   "id": "5e8342ca",
   "metadata": {},
   "outputs": [],
   "source": [
    "bb"
   ]
  },
  {
   "cell_type": "code",
   "execution_count": null,
   "id": "a973bfdb",
   "metadata": {},
   "outputs": [],
   "source": []
  },
  {
   "cell_type": "code",
   "execution_count": null,
   "id": "bba1df2b",
   "metadata": {},
   "outputs": [],
   "source": []
  },
  {
   "cell_type": "code",
   "execution_count": null,
   "id": "d4f92aa8",
   "metadata": {},
   "outputs": [],
   "source": []
  },
  {
   "cell_type": "code",
   "execution_count": null,
   "id": "73c750bf",
   "metadata": {},
   "outputs": [],
   "source": [
    "import random\n",
    "import smtplib\n",
    "from email.mime.text import MIMEText\n",
    "from email.mime.multipart import MIMEMultipart\n",
    "\n",
    "# List of participants\n",
    "gifters = ['carti', 'naf', 'sal', 'dahshan', 'jupiter', 'zoo', 'sufian', 'sof', 'popz', 'anas', 'hoss']\n",
    "gifter_emails = [\n",
    "    'cartiforeskin@gmail.com', 'nafady.abdullah@gmail.com', 'mohammedsg593@gmail.com',\n",
    "    'Youssef.dahshan@hotmail.com', 'shahdselim01@gmail.com', 'zeinaelfar828@gmail.com',\n",
    "    'mnoons@outlook.com', 'Safiaroma77.sh@gmail.com', 'ziadzezotarek@gmail.com',\n",
    "    'anas2105906@miuegypt.edu.eg', 'Haithamhossam47@gmail.com'\n",
    "]\n",
    "\n",
    "# Function to shuffle and match gifters to receivers\n",
    "def randomizer(gifters):\n",
    "    receivers = gifters.copy()\n",
    "    random.shuffle(receivers)\n",
    "    \n",
    "    # Retry if anyone gets themselves\n",
    "    for i in range(len(gifters)):\n",
    "        if gifters[i] == receivers[i]:\n",
    "            return randomizer(gifters)\n",
    "    \n",
    "    return dict(zip(gifters, receivers))\n",
    "\n",
    "# Send email function\n",
    "def send_email(sender_email, sender_password, receiver_email, subject, body):\n",
    "    message = MIMEMultipart()\n",
    "    message[\"From\"] = sender_email\n",
    "    message[\"To\"] = receiver_email\n",
    "    message[\"Subject\"] = subject\n",
    "    message.attach(MIMEText(body, \"plain\"))\n",
    "\n",
    "    with smtplib.SMTP(\"smtp.gmail.com\", 587) as server:\n",
    "        server.starttls()\n",
    "        server.login(sender_email, sender_password)\n",
    "        server.sendmail(sender_email, receiver_email, message.as_string())\n",
    "\n",
    "# Run the randomizer to get Secret Santa pairs\n",
    "pairs = randomizer(gifters)\n",
    "\n",
    "# Replace these with your own credentials\n",
    "sender_email = \"your_email@gmail.com\"\n",
    "app_password = \"your_app_password\"\n",
    "\n",
    "# Notify each gifter of their receiver via email\n",
    "for gifter, receiver in pairs.items():\n",
    "    receiver_email = gifter_emails[gifters.index(gifter)]\n",
    "    subject = \"Your Secret Santa Assignment!\"\n",
    "    body = f\"Hello {gifter.capitalize()},\\n\\nYou are the Secret Santa for {receiver.capitalize()}!\\n\\nHappy Gifting!\"\n",
    "\n",
    "    # Uncomment below to send email (make sure sender_email and app_password are correct)\n",
    "    # send_email(sender_email, app_password, receiver_email, subject, body)\n",
    "\n",
    "    print(f\"{gifter} -> {receiver}\")  # For checking pairs\n"
   ]
  },
  {
   "cell_type": "code",
   "execution_count": null,
   "id": "e5b26e60",
   "metadata": {},
   "outputs": [],
   "source": []
  },
  {
   "cell_type": "code",
   "execution_count": null,
   "id": "970e63a0",
   "metadata": {},
   "outputs": [],
   "source": [
    "import random\n",
    "import smtplib\n",
    "from email.mime.text import MIMEText\n",
    "from email.mime.multipart import MIMEMultipart"
   ]
  },
  {
   "cell_type": "code",
   "execution_count": null,
   "id": "65783b21",
   "metadata": {},
   "outputs": [],
   "source": [
    "gifters = ['carti', 'naf', 'sal', 'dahshan', 'jupiter', 'zoo', 'sufian', 'sof', 'popz', 'anas', 'hoss']\n",
    "gifter_emails = [\n",
    "    'cartiforeskin@gmail.com', 'nafady.abdullah@gmail.com', 'mohammedsg593@gmail.com',\n",
    "    'Youssef.dahshan@hotmail.com', 'shahdselim01@gmail.com', 'zeinaelfar828@gmail.com',\n",
    "    'mnoons@outlook.com', 'Safiaroma77.sh@gmail.com', 'ziadzezotarek@gmail.com',\n",
    "    'anas2105906@miuegypt.edu.eg', 'Haithamhossam47@gmail.com'\n",
    "]\n",
    "\n",
    "# Sender email configuration\n",
    "sender_email = \"alhusseingomma194@gmail.com\"\n",
    "app_password = \"cfjubrrxlzfqyver\"  # Use the correct app password here\n"
   ]
  },
  {
   "cell_type": "code",
   "execution_count": null,
   "id": "75e4deb7",
   "metadata": {},
   "outputs": [],
   "source": [
    "def randomizer(gifters):\n",
    "    \"\"\"Randomly assign receivers to gifters.\"\"\"\n",
    "    receivers = gifters.copy()\n",
    "    random.shuffle(receivers)\n",
    "    \n",
    "    # Retry if anyone gets themselves\n",
    "    for i in range(len(gifters)):\n",
    "        if gifters[i] == receivers[i]:\n",
    "            return randomizer(gifters)\n",
    "    \n",
    "    return dict(zip(gifters, receivers))\n",
    "\n",
    "def send_email(sender_email, sender_password, receiver_email, subject, body):\n",
    "    \"\"\"Send an email notification to the receiver.\"\"\"\n",
    "    message = MIMEMultipart()\n",
    "    message[\"From\"] = sender_email\n",
    "    message[\"To\"] = receiver_email\n",
    "    message[\"Subject\"] = subject\n",
    "    message.attach(MIMEText(body, \"plain\"))\n",
    "\n",
    "    with smtplib.SMTP(\"smtp.gmail.com\", 587) as server:\n",
    "        server.starttls()\n",
    "        server.login(sender_email, sender_password)\n",
    "        server.sendmail(sender_email, receiver_email, message.as_string())"
   ]
  },
  {
   "cell_type": "code",
   "execution_count": null,
   "id": "5fbd2e6e",
   "metadata": {},
   "outputs": [],
   "source": [
    "def send_email():\n",
    "    sender_email = \"alhusseingomma194@gmail.com\"\n",
    "    receiver_email = \"gshockforlife9@gmail.com\"\n",
    "    app_password = \"cfjubrrxlzfqyver\"\n",
    "\n",
    "    # Create the email content\n",
    "    subject = \"testing email\"\n",
    "    body = \"kos o5t microsoft.\"\n",
    "\n",
    "    # Create the email message\n",
    "    message = MIMEMultipart()\n",
    "    message[\"From\"] = sender_email\n",
    "    message[\"To\"] = receiver_email\n",
    "    message[\"Subject\"] = subject\n",
    "    message.attach(MIMEText(body, \"plain\"))\n",
    "\n",
    "    try:\n",
    "        # Connect to Gmail's SMTP server\n",
    "        with smtplib.SMTP(\"smtp.gmail.com\", 587) as server:\n",
    "            server.starttls()  # Start TLS (Transport Layer Security)\n",
    "            server.login(sender_email, app_password)  # Login with app password\n",
    "            server.sendmail(sender_email, receiver_email, message.as_string())  # Send the email\n",
    "            print(\"Email sent successfully!\")\n",
    "    except Exception as e:\n",
    "        print(f\"Error: {e}\")\n",
    "\n",
    "# Call the function to send an email\n",
    "send_email()\n"
   ]
  },
  {
   "cell_type": "code",
   "execution_count": null,
   "id": "57289616",
   "metadata": {},
   "outputs": [],
   "source": []
  },
  {
   "cell_type": "code",
   "execution_count": null,
   "id": "bc8bd9e2",
   "metadata": {},
   "outputs": [],
   "source": []
  },
  {
   "cell_type": "code",
   "execution_count": null,
   "id": "55c01671",
   "metadata": {},
   "outputs": [],
   "source": [
    "#gifter  = ['carti','naf','sal' , 'jupiter']\n",
    "#gifterEmails= ['cartiforeskin@gmail.com' , 'nafady.abdullah@gmail.com' , 'mohammedsg593@gmail.com' ,'shahdselim01@gmail.com']\n",
    "#receiver = ['carti','naf','sal' , 'jupiter']\n",
    "#emergency = ['carti','naf','sal' , 'jupiter']\n",
    "#x = int(input(\"how many are playing? \"))\n",
    "#for i in range(x):\n",
    " #   z= (input(f'who is the player number {i+1} ?'))\n",
    " #   gifter.append(z)\n",
    " #   receiver.append(z)\n",
    " #   i = input(f'what is the email of {z} ?')\n",
    " #   gifterEmails.append(i)\n",
    "    "
   ]
  },
  {
   "cell_type": "code",
   "execution_count": null,
   "id": "6f96265d",
   "metadata": {},
   "outputs": [],
   "source": []
  },
  {
   "cell_type": "code",
   "execution_count": null,
   "id": "0a89280b",
   "metadata": {},
   "outputs": [],
   "source": []
  },
  {
   "cell_type": "code",
   "execution_count": null,
   "id": "4c2d3f90",
   "metadata": {},
   "outputs": [],
   "source": []
  },
  {
   "cell_type": "code",
   "execution_count": null,
   "id": "27c4ac12",
   "metadata": {},
   "outputs": [],
   "source": []
  },
  {
   "cell_type": "code",
   "execution_count": null,
   "id": "7a71fee3",
   "metadata": {},
   "outputs": [],
   "source": []
  },
  {
   "cell_type": "code",
   "execution_count": null,
   "id": "5c56cb48",
   "metadata": {},
   "outputs": [],
   "source": []
  },
  {
   "cell_type": "code",
   "execution_count": null,
   "id": "01e44b5c",
   "metadata": {},
   "outputs": [],
   "source": []
  },
  {
   "cell_type": "code",
   "execution_count": null,
   "id": "0d2570c7",
   "metadata": {},
   "outputs": [],
   "source": []
  },
  {
   "cell_type": "code",
   "execution_count": null,
   "id": "d79c59ec",
   "metadata": {},
   "outputs": [],
   "source": []
  },
  {
   "cell_type": "code",
   "execution_count": null,
   "id": "c285e725",
   "metadata": {},
   "outputs": [],
   "source": []
  },
  {
   "cell_type": "code",
   "execution_count": null,
   "id": "d907e1a3",
   "metadata": {},
   "outputs": [],
   "source": []
  },
  {
   "cell_type": "code",
   "execution_count": null,
   "id": "d8fb8c91",
   "metadata": {},
   "outputs": [],
   "source": []
  },
  {
   "cell_type": "code",
   "execution_count": null,
   "id": "0ea30f59",
   "metadata": {},
   "outputs": [],
   "source": []
  },
  {
   "cell_type": "code",
   "execution_count": null,
   "id": "e000d5dc",
   "metadata": {},
   "outputs": [],
   "source": []
  },
  {
   "cell_type": "code",
   "execution_count": null,
   "id": "f993f6e3",
   "metadata": {},
   "outputs": [],
   "source": []
  },
  {
   "cell_type": "code",
   "execution_count": null,
   "id": "b9add6cb",
   "metadata": {},
   "outputs": [],
   "source": []
  },
  {
   "cell_type": "code",
   "execution_count": null,
   "id": "3778397b",
   "metadata": {},
   "outputs": [],
   "source": []
  },
  {
   "cell_type": "code",
   "execution_count": null,
   "id": "46bb2e1b",
   "metadata": {},
   "outputs": [],
   "source": []
  },
  {
   "cell_type": "code",
   "execution_count": null,
   "id": "6aa215ec",
   "metadata": {},
   "outputs": [],
   "source": []
  },
  {
   "cell_type": "code",
   "execution_count": null,
   "id": "1b2ba473",
   "metadata": {},
   "outputs": [],
   "source": []
  },
  {
   "cell_type": "code",
   "execution_count": null,
   "id": "3e486aa5",
   "metadata": {},
   "outputs": [],
   "source": []
  },
  {
   "cell_type": "code",
   "execution_count": null,
   "id": "e9b73f8c",
   "metadata": {},
   "outputs": [],
   "source": []
  },
  {
   "cell_type": "markdown",
   "id": "09fbd607",
   "metadata": {},
   "source": [
    "### Importing Libs "
   ]
  },
  {
   "cell_type": "code",
   "execution_count": 21,
   "id": "54a314d4",
   "metadata": {},
   "outputs": [],
   "source": [
    "import smtplib\n",
    "from email.mime.text import MIMEText\n",
    "from email.mime.multipart import MIMEMultipart\n",
    "import random\n",
    "from random import randint"
   ]
  },
  {
   "cell_type": "markdown",
   "id": "e8b1b6d5",
   "metadata": {},
   "source": [
    "### Extracting Info"
   ]
  },
  {
   "cell_type": "code",
   "execution_count": 63,
   "id": "ffe87360",
   "metadata": {},
   "outputs": [],
   "source": [
    "file_path = r\"participants\\participants.txt\"\n",
    "gifter = []\n",
    "gifterEmails = []\n",
    "receiver = []\n",
    "emergency = []\n",
    "with open(file_path, 'r') as file:\n",
    "    for line in file:\n",
    "        if ':' in line:\n",
    "            name, email = line.strip().split(':')\n",
    "            gifter.append(name.strip())\n",
    "            gifterEmails.append(email.strip())\n",
    "receiver = gifter.copy()\n",
    "emergency = gifter.copy()\n",
    "\n",
    "second_file_path = r\"HostCredentials\\Creds.txt\"\n",
    "credentials = {}\n",
    "with open(second_file_path, \"r\") as file:\n",
    "    for line in file:\n",
    "        key, value = line.strip().split(\" : \")\n",
    "        credentials[key] = value\n",
    "santa = credentials['santa']\n",
    "password = credentials['password']"
   ]
  },
  {
   "cell_type": "markdown",
   "id": "c73837b7",
   "metadata": {},
   "source": [
    "### Functions"
   ]
  },
  {
   "cell_type": "code",
   "execution_count": 9,
   "id": "b6b37258",
   "metadata": {
    "collapsed": true
   },
   "outputs": [
    {
     "name": "stdout",
     "output_type": "stream",
     "text": [
      "15 4\n",
      "14 5\n",
      "13 6\n",
      "12 2\n",
      "11 11\n",
      "10 1\n",
      "9 9\n",
      "8 0\n",
      "7 5\n",
      "6 3\n",
      "5 2\n",
      "4 4\n",
      "3 1\n",
      "2 0\n",
      "1 0\n",
      "0 0\n"
     ]
    }
   ],
   "source": [
    "def randomizer (gifter,receiver):\n",
    "    count = int(len(gifter))\n",
    "    count2 = count\n",
    "    rows, cols = (count, 2) \n",
    "    arr = [[0 for i in range(cols)] for j in range(rows)] \n",
    "    for i in range(count):\n",
    "        count2-=1\n",
    "        random = randint(0,count2)\n",
    "        arr[i][0] = gifter[i]\n",
    "        print (count2 , random)\n",
    "        \n",
    "        #check if the gifter is the same as the rcvr\n",
    "        if(arr[i][0] == receiver[random]):\n",
    "            #assign the rcvr that is before the resulted one\n",
    "            arr[i][1] = receiver[random-1]\n",
    "            receiver.remove(receiver[random-1])\n",
    "        else :\n",
    "            #just assign the initial rcvr\n",
    "            arr[i][1] = receiver[random]\n",
    "            receiver.remove(receiver[random])       \n",
    "    return arr\n",
    "\n",
    "\n",
    "results = randomizer(gifter, receiver)\n",
    "\n",
    "if (results[-1][0] == results[-1][1]):\n",
    "    results = randomizer(gifter, emergency)\n",
    "    \n",
    "    \n"
   ]
  },
  {
   "cell_type": "code",
   "execution_count": null,
   "id": "f4eec6ee",
   "metadata": {},
   "outputs": [],
   "source": [
    "def send_email(santa , password , gifter, gifterName , giftRcvr):\n",
    "    #santa is the host email address that will send\n",
    "    #password is the app password created by GMAIL\n",
    "    #gifter is the emaill address of the one that will be gifting\n",
    "    #giftRcvr will be the email sender\n",
    "    \n",
    "    subject = \"Test Secret Santa\"\n",
    "    body = (f\" THIS IS ONLY THE TEST, TEST ,TEST ,TEST , Hey {gifterName}, you are the secret santa for {giftRcvr}, Please buy them a gift on time. You can find a pinned message in the main group with everyone's interests\")\n",
    "    \n",
    "    \n",
    "    message = MIMEMultipart()\n",
    "    message[\"From\"] = santa\n",
    "    message[\"To\"] = gifter\n",
    "    message[\"Subject\"] = subject\n",
    "    message.attach(MIMEText(body, \"plain\"))\n",
    "    \n",
    "   # with smtplib.SMTP(\"smtp.gmail.com\", 587) as server:\n",
    "   #     server.starttls()  # Start TLS (Transport Layer Security)\n",
    "   #     server.login(santa, password)  # Login with app password\n",
    "   #     server.sendmail(santa, gifter, message.as_string())  # Send the email\n",
    "    print(body)"
   ]
  },
  {
   "cell_type": "code",
   "execution_count": 47,
   "id": "3339945c",
   "metadata": {},
   "outputs": [],
   "source": [
    "def bulk_emails(finalList):\n",
    "    for i in range(len(finalList)):\n",
    "        send_email(santa,password,gifterEmails[i],finalList[i][0],finalList[i][1])"
   ]
  },
  {
   "cell_type": "code",
   "execution_count": null,
   "id": "d1f230f0",
   "metadata": {},
   "outputs": [],
   "source": []
  }
 ],
 "metadata": {
  "kernelspec": {
   "display_name": "Python 3 (ipykernel)",
   "language": "python",
   "name": "python3"
  },
  "language_info": {
   "codemirror_mode": {
    "name": "ipython",
    "version": 3
   },
   "file_extension": ".py",
   "mimetype": "text/x-python",
   "name": "python",
   "nbconvert_exporter": "python",
   "pygments_lexer": "ipython3",
   "version": "3.9.12"
  }
 },
 "nbformat": 4,
 "nbformat_minor": 5
}
